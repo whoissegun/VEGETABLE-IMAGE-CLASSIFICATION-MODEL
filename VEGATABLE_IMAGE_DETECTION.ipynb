{
  "nbformat": 4,
  "nbformat_minor": 0,
  "metadata": {
    "colab": {
      "provenance": [],
      "machine_shape": "hm",
      "gpuType": "T4"
    },
    "kernelspec": {
      "name": "python3",
      "display_name": "Python 3"
    },
    "language_info": {
      "name": "python"
    },
    "accelerator": "GPU"
  },
  "cells": [
    {
      "cell_type": "code",
      "execution_count": null,
      "metadata": {
        "id": "S3U_nExB5wr9",
        "colab": {
          "base_uri": "https://localhost:8080/"
        },
        "outputId": "62210522-fc99-4eaa-bf31-fce7a196684c"
      },
      "outputs": [
        {
          "output_type": "stream",
          "name": "stdout",
          "text": [
            "Mounted at /content/drive\n"
          ]
        }
      ],
      "source": [
        "from google.colab import drive\n",
        "drive.mount('/content/drive', force_remount=True) #mounting my google drive"
      ]
    },
    {
      "cell_type": "code",
      "source": [
        "!mkdir ~/.kaggle"
      ],
      "metadata": {
        "id": "eoIcuBOM595F"
      },
      "execution_count": null,
      "outputs": []
    },
    {
      "cell_type": "code",
      "source": [
        "!cp /content/drive/MyDrive/KAGGLE_API_CREDENTIALS/kaggle.json ~/.kaggle/kaggle.json"
      ],
      "metadata": {
        "id": "ZflBVkUW6BTk"
      },
      "execution_count": null,
      "outputs": []
    },
    {
      "cell_type": "code",
      "source": [
        "!chmod 600 ~/.kaggle/kaggle.json"
      ],
      "metadata": {
        "id": "r1caaCv36C8p"
      },
      "execution_count": null,
      "outputs": []
    },
    {
      "cell_type": "code",
      "source": [
        "!kaggle datasets download -d misrakahmed/vegetable-image-dataset\n",
        "\n",
        "# link to dataset: https://www.kaggle.com/datasets/misrakahmed/vegetable-image-dataset"
      ],
      "metadata": {
        "id": "Kpw--Ycq6ErP"
      },
      "execution_count": null,
      "outputs": []
    },
    {
      "cell_type": "code",
      "source": [
        "!unzip '/content/vegetable-image-dataset.zip'"
      ],
      "metadata": {
        "id": "OUwaRRrf6UJq"
      },
      "execution_count": null,
      "outputs": []
    },
    {
      "cell_type": "code",
      "source": [
        "import torch\n",
        "from torch import nn\n",
        "from torch.optim import SGD, Adam\n",
        "from torchvision import datasets, transforms, models\n",
        "from sklearn.metrics import classification_report, accuracy_score\n",
        "import matplotlib.pyplot as plt\n",
        "import numpy as np\n",
        "\n"
      ],
      "metadata": {
        "id": "FDqf8tBA6gpx"
      },
      "execution_count": 19,
      "outputs": []
    },
    {
      "cell_type": "code",
      "source": [
        "device = torch.device(\"cuda\" if torch.cuda.is_available() else \"cpu\")"
      ],
      "metadata": {
        "id": "z50qgKIK7Vwq"
      },
      "execution_count": null,
      "outputs": []
    },
    {
      "cell_type": "code",
      "source": [
        "from torchvision.models import resnet50, ResNet50_Weights\n",
        "\n",
        "weights = ResNet50_Weights.DEFAULT\n",
        "model = resnet50(weights=weights).to(device)"
      ],
      "metadata": {
        "id": "gtQb7K_N72ye"
      },
      "execution_count": 27,
      "outputs": []
    },
    {
      "cell_type": "code",
      "source": [
        "preprocess = weights.transforms()"
      ],
      "metadata": {
        "id": "71TRP2qx9TSo"
      },
      "execution_count": null,
      "outputs": []
    },
    {
      "cell_type": "code",
      "source": [
        "import os\n",
        "\n",
        "data_dir = '/content/Vegetable Images'  # adjust to your path\n",
        "image_datasets = {x: datasets.ImageFolder(os.path.join(data_dir, x), transform=preprocess)\n",
        "                  for x in ['train', 'validation', 'test']}\n",
        "\n",
        "dataloaders = {x: torch.utils.data.DataLoader(image_datasets[x], batch_size=16, shuffle=True, num_workers=4)\n",
        "               for x in ['train', 'validation', 'test']}"
      ],
      "metadata": {
        "id": "QlHikxZT-E_I"
      },
      "execution_count": 46,
      "outputs": []
    },
    {
      "cell_type": "code",
      "source": [
        "num_output_features = len(dataloaders['train'].dataset)\n",
        "\n",
        "# Replace the last layer (classifier) output features with the number of classes of the dataset\n",
        "model.fc = torch.nn.Linear(model.fc.in_features, num_output_features)\n",
        "model.fc = model.fc.to(device)\n",
        "\n",
        "for name, param in model.named_parameters():\n",
        "    if not name.startswith('fc'):  # Freeze all layers except the last fully connected layer\n",
        "        param.requires_grad = False\n",
        "    else:\n",
        "      param.requires_grad = True\n",
        "\n"
      ],
      "metadata": {
        "id": "qefOfbxyNWBl"
      },
      "execution_count": 59,
      "outputs": []
    },
    {
      "cell_type": "code",
      "source": [
        "def train_model(model, train_loader, loss_fn, optimizer, device):\n",
        "    model.train()\n",
        "    running_loss = 0.0\n",
        "    preds_list = []\n",
        "    labels_list = []\n",
        "\n",
        "    for X, y in train_loader:\n",
        "        X = X.to(device)\n",
        "        y = y.to(device)\n",
        "\n",
        "        # Forward pass\n",
        "        outputs = model(X)\n",
        "\n",
        "        loss = loss_fn(outputs, y)\n",
        "\n",
        "        # Backward pass and optimization\n",
        "        optimizer.zero_grad()\n",
        "        loss.backward()\n",
        "        optimizer.step()\n",
        "\n",
        "        # Get predictions\n",
        "        _, preds = torch.max(outputs, 1)\n",
        "\n",
        "        # Save predictions and true labels\n",
        "        preds_list.append(preds)\n",
        "        labels_list.append(y)\n",
        "\n",
        "        running_loss += loss.item() * X.size(0)\n",
        "\n",
        "    # Concatenate all the tensors into a single tensor\n",
        "    all_preds = torch.cat(preds_list).to(device)\n",
        "    all_labels = torch.cat(labels_list).to(device)\n",
        "\n",
        "\n",
        "\n",
        "    # Move tensors to CPU and convert to numpy arrays\n",
        "    all_preds_np = all_preds.detach().cpu().numpy()\n",
        "    all_labels_np = all_labels.cpu().numpy()\n",
        "\n",
        "    epoch_loss = running_loss / len(train_loader.dataset)\n",
        "    epoch_acc = np.sum(all_preds_np == all_labels_np) / len(all_labels_np)\n",
        "\n",
        "    return epoch_loss, epoch_acc\n"
      ],
      "metadata": {
        "id": "c-tjYPbMDLP9"
      },
      "execution_count": 62,
      "outputs": []
    },
    {
      "cell_type": "code",
      "source": [
        "def validate_and_test_model(model, data_loader, loss_fn, device):\n",
        "    model.eval()\n",
        "    running_loss = 0.0\n",
        "    preds_list = []\n",
        "    labels_list = []\n",
        "\n",
        "    with torch.inference_mode(): #switch off gradient computation\n",
        "      for X, y in data_loader:\n",
        "          X = X.to(device)\n",
        "          y = y.to(device)\n",
        "\n",
        "          # Forward pass\n",
        "          outputs = model(X)\n",
        "          loss = loss_fn(outputs, y)\n",
        "\n",
        "          # Get predictions\n",
        "          _, preds = torch.max(outputs, 1)\n",
        "\n",
        "          # Save predictions and true labels\n",
        "          preds_list.append(preds)\n",
        "          labels_list.append(y)\n",
        "\n",
        "          running_loss += loss.item() * X.size(0)\n",
        "\n",
        "      # Concatenate all the tensors into a single tensor\n",
        "      all_preds = torch.cat(preds_list).to(device)\n",
        "      all_labels = torch.cat(labels_list).to(device)\n",
        "\n",
        "    # Move tensors to CPU and convert to numpy arrays\n",
        "    all_preds_np = all_preds.detach().cpu().numpy()\n",
        "    all_labels_np = all_labels.cpu().numpy()\n",
        "\n",
        "    epoch_loss = running_loss / len(data_loader.dataset)\n",
        "    epoch_acc = np.sum(all_preds_np == all_labels_np) / len(all_labels_np)\n",
        "\n",
        "    return epoch_loss, epoch_acc\n"
      ],
      "metadata": {
        "id": "S64iQ9zoEUEU"
      },
      "execution_count": 63,
      "outputs": []
    },
    {
      "cell_type": "code",
      "source": [
        "def train_and_validate(model, train_loader, data_loader, loss_fn, optimizer, epochs, device, model_save_path):\n",
        "    best_acc = 0.0\n",
        "    for epoch in range(epochs):\n",
        "        train_loss, train_acc = train_model(model, train_loader, loss_fn, optimizer, device)\n",
        "        print(f'Epoch {epoch+1}/{epochs}, Train Loss: {train_loss:.4f}, Train Acc: {train_acc:.4f}')\n",
        "\n",
        "        if epoch % 5 == 0:\n",
        "          validate_loss, validate_acc= validate_and_test_model(model, data_loader, loss_fn, device)\n",
        "          print(f'Epoch {epoch+1}/{epochs},test Loss: {validate_loss:.4f}, validate Acc: {validate_acc:.4f}')\n",
        "\n",
        "\n",
        "        # Save the model weights if this epoch gives us the highest validation accuracy\n",
        "        if validate_acc > best_acc:\n",
        "            best_acc = validate_acc\n",
        "            torch.save(model.state_dict(), model_save_path)\n",
        "\n",
        "    return best_acc"
      ],
      "metadata": {
        "id": "ZQh4reUSJg82"
      },
      "execution_count": 66,
      "outputs": []
    },
    {
      "cell_type": "code",
      "source": [
        "epochs = 50\n",
        "loss_fn = nn.CrossEntropyLoss()\n",
        "optimizer = Adam(params=model.parameters(), lr=0.003, weight_decay=0.007)\n",
        "\n",
        "# Perform training and validation\n",
        "train_and_validate(model, dataloaders['train'], dataloaders['validation'], loss_fn, optimizer, epochs, device, 'VEGATABLE_IMAGE_DETECTION_MODEL_weights.pth')"
      ],
      "metadata": {
        "id": "wy4ko33vK7UL"
      },
      "execution_count": null,
      "outputs": []
    },
    {
      "cell_type": "code",
      "source": [
        "model.load_state_dict(torch.load('/content/VEGATABLE_IMAGE_DETECTION_MODEL_weights.pth'))"
      ],
      "metadata": {
        "id": "VDv9WrwXxBQx"
      },
      "execution_count": null,
      "outputs": []
    },
    {
      "cell_type": "code",
      "source": [
        "#testing stage\n",
        "\n",
        "data_loader = dataloaders['test']\n",
        "for epoch in range(epochs):\n",
        "  test_loss, test_acc= validate_and_test_model(model, data_loader, loss_fn, device)\n",
        "  print(f'Epoch {epoch+1}/{epochs},test Loss: {test_loss:.4f}, test Acc: {test_acc:.4f}')"
      ],
      "metadata": {
        "id": "E6LI6JY5xGd1"
      },
      "execution_count": null,
      "outputs": []
    }
  ]
}